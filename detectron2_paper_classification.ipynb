{
  "cells": [
    {
      "cell_type": "markdown",
      "metadata": {
        "id": "view-in-github",
        "colab_type": "text"
      },
      "source": [
        "<a href=\"https://colab.research.google.com/github/dineshkumar-anandan/AWTFrame/blob/new%2Fdev/detectron2_paper_classification.ipynb\" target=\"_parent\"><img src=\"https://colab.research.google.com/assets/colab-badge.svg\" alt=\"Open In Colab\"/></a>"
      ]
    },
    {
      "cell_type": "code",
      "source": [
        "import gc\n",
        "import os\n",
        "import cv2\n",
        "import torch\n",
        "\n",
        "import matplotlib.pyplot as plt\n",
        "\n",
        "from PIL import Image\n",
        "\n",
        "import detectron2\n",
        "from detectron2.utils.logger import setup_logger\n",
        "from detectron2.config import get_cfg\n",
        "from detectron2 import model_zoo\n",
        "from detectron2.engine import DefaultPredictor\n",
        "from detectron2.utils.visualizer import Visualizer, ColorMode\n",
        "\n",
        "\n",
        "from yaml import load, FullLoader\n",
        "from pprint import pprint"
      ],
      "metadata": {
        "id": "Luimd73-XNBr",
        "outputId": "ecaf31d3-4bbf-46ec-c916-a054d6d6cf41",
        "colab": {
          "base_uri": "https://localhost:8080/",
          "height": 442
        }
      },
      "execution_count": 13,
      "outputs": [
        {
          "output_type": "stream",
          "name": "stderr",
          "text": [
            "/usr/lib/python3.10/imp.py:343: RuntimeWarning: coroutine 'Server.serve' was never awaited\n",
            "  return _load(spec)\n",
            "RuntimeWarning: Enable tracemalloc to get the object allocation traceback\n"
          ]
        },
        {
          "output_type": "error",
          "ename": "ModuleNotFoundError",
          "evalue": "ignored",
          "traceback": [
            "\u001b[0;31m---------------------------------------------------------------------------\u001b[0m",
            "\u001b[0;31mModuleNotFoundError\u001b[0m                       Traceback (most recent call last)",
            "\u001b[0;32m<ipython-input-13-f6faaae5507f>\u001b[0m in \u001b[0;36m<cell line: 10>\u001b[0;34m()\u001b[0m\n\u001b[1;32m      8\u001b[0m \u001b[0;32mfrom\u001b[0m \u001b[0mPIL\u001b[0m \u001b[0;32mimport\u001b[0m \u001b[0mImage\u001b[0m\u001b[0;34m\u001b[0m\u001b[0;34m\u001b[0m\u001b[0m\n\u001b[1;32m      9\u001b[0m \u001b[0;34m\u001b[0m\u001b[0m\n\u001b[0;32m---> 10\u001b[0;31m \u001b[0;32mimport\u001b[0m \u001b[0mdetectron2\u001b[0m\u001b[0;34m\u001b[0m\u001b[0;34m\u001b[0m\u001b[0m\n\u001b[0m\u001b[1;32m     11\u001b[0m \u001b[0;32mfrom\u001b[0m \u001b[0mdetectron2\u001b[0m\u001b[0;34m.\u001b[0m\u001b[0mutils\u001b[0m\u001b[0;34m.\u001b[0m\u001b[0mlogger\u001b[0m \u001b[0;32mimport\u001b[0m \u001b[0msetup_logger\u001b[0m\u001b[0;34m\u001b[0m\u001b[0;34m\u001b[0m\u001b[0m\n\u001b[1;32m     12\u001b[0m \u001b[0;32mfrom\u001b[0m \u001b[0mdetectron2\u001b[0m\u001b[0;34m.\u001b[0m\u001b[0mconfig\u001b[0m \u001b[0;32mimport\u001b[0m \u001b[0mget_cfg\u001b[0m\u001b[0;34m\u001b[0m\u001b[0;34m\u001b[0m\u001b[0m\n",
            "\u001b[0;31mModuleNotFoundError\u001b[0m: No module named 'detectron2'",
            "",
            "\u001b[0;31m---------------------------------------------------------------------------\u001b[0;32m\nNOTE: If your import is failing due to a missing package, you can\nmanually install dependencies using either !pip or !apt.\n\nTo view examples of installing some common dependencies, click the\n\"Open Examples\" button below.\n\u001b[0;31m---------------------------------------------------------------------------\u001b[0m\n"
          ],
          "errorDetails": {
            "actions": [
              {
                "action": "open_url",
                "actionText": "Open Examples",
                "url": "/notebooks/snippets/importing_libraries.ipynb"
              }
            ]
          }
        }
      ]
    },
    {
      "cell_type": "code",
      "source": [
        "models = {\n",
        "    'rpn_r50_fpn': {\n",
        "        'model_path': 'COCO-Detection/rpn_R_50_FPN_1x.yaml',\n",
        "        'weights_path': 'model/rpn-r-50-fpn-1x/model_final_02ce48.pkl'\n",
        "    },\n",
        "    'faster_rcnn_50': {\n",
        "        'model_path': 'COCO-Detection/faster_rcnn_R_50_FPN_3x.yaml',\n",
        "        'weights_path': 'model/faster-r-cnn-r50-fpn-x3/model_final_280758.pkl'\n",
        "    },\n",
        "    'faster_rcnn_101': {\n",
        "        'model_path': 'COCO-Detection/faster_rcnn_R_101_FPN_3x.yaml',\n",
        "        'weights_path': 'model/detectron2-faster-rcnn-101/model_final_f6e8b1.pkl'\n",
        "    },\n",
        "    'retinanet': {\n",
        "        'model_path': 'COCO-Detection/retinanet_R_101_FPN_3x.yaml',\n",
        "        'weights_path': 'model/detectron2-faster-rcnn-101/model_final_971ab9.pkl'\n",
        "    }\n",
        "}\n",
        "\n",
        "\n",
        "MODEL_USE = 'faster_rcnn_50'\n",
        "MODEL_PATH = models[MODEL_USE]['model_path']\n",
        "WEIGHT_PATH = models[MODEL_USE]['weights_path']"
      ],
      "metadata": {
        "id": "D5KzNF1XXUoe"
      },
      "execution_count": null,
      "outputs": []
    },
    {
      "cell_type": "code",
      "source": [
        "# Loads the default configuration setup\n",
        "cfg = get_cfg()\n",
        "cfg.keys()\n",
        "cfg['MODEL'].keys()\n",
        "\n",
        "\n",
        "# pprint(load(open(model_zoo.get_config_file(MODEL_PATH)), Loader=FullLoader))\n",
        "\n",
        "\n",
        "cfg = get_cfg()\n",
        "cfg.merge_from_file(model_zoo.get_config_file(MODEL_PATH))\n",
        "cfg.MODEL.ROI_HEADS.SCORE_THRESH_TEST = 0.5\n",
        "cfg.MODEL.DEVICE='cuda'\n",
        "cfg.MODEL.WEIGHTS = '/home/dineshkumar.anandan@zucisystems.com/Workspace/models/detectron2_paper_classification_modelv1.pth'\n",
        "# cfg.MODEL.WEIGHTS = 'detectron2://ImageNetPretrained/MSRA/R-50.pkl'"
      ],
      "metadata": {
        "id": "PKMMxTlLXbcQ"
      },
      "execution_count": null,
      "outputs": []
    },
    {
      "cell_type": "code",
      "source": [
        "predict = DefaultPredictor(cfg)"
      ],
      "metadata": {
        "id": "tKUUu8nhXeHT"
      },
      "execution_count": null,
      "outputs": []
    },
    {
      "cell_type": "code",
      "source": [
        "%%time\n",
        "\n",
        "def visual_predict(dataset):\n",
        "    \n",
        "    list_final = []\n",
        "    \n",
        "    img = cv2.imread(dataset)\n",
        "    output = predict(img)\n",
        "\n",
        "    v = Visualizer(img[:, :, ::-1])\n",
        "    v = v.draw_instance_predictions(output['instances'].to('cpu'))\n",
        "    plt.figure(figsize = (14, 10))\n",
        "    plt.imshow(cv2.cvtColor(v.get_image()[:, :, ::-1], cv2.COLOR_BGR2RGB))\n",
        "    plt.show()\n",
        "    \n",
        "    idxofClass = [i for i, x in enumerate(list(output['instances'].pred_classes)) if x == 0]\n",
        "    \n",
        "    out = output['instances']\n",
        "    \n",
        "    classes = out.pred_classes[idxofClass]\n",
        "    scores = out.scores[idxofClass]\n",
        "    boxes = out.pred_boxes[idxofClass]\n",
        "\n",
        "    list_score = scores.to('cpu').numpy().tolist()\n",
        "    \n",
        "    bboxes = boxes.tensor.cpu().numpy().tolist()\n",
        "    \n",
        "    count = 1\n",
        "    \n",
        "    crop_image = Image.open(dataset)\n",
        "    \n",
        "    for score, bbox in zip(list_score, bboxes):\n",
        "        \n",
        "        if score > 0.5:\n",
        "            \n",
        "            x1, y1, x2, y2 = bbox\n",
        "            cropped_im = crop_image.crop((x1, y1, x2, y2))\n",
        "            cropped_im.save(f\"cropped_{count}.jpg\")\n",
        "            \n",
        "            list_final.append({'score':score, 'bbox':bbox})\n",
        "            \n",
        "        count+=1\n",
        "            \n",
        "    return list_final\n",
        "                \n",
        "    \n",
        "test_dataset = \"/home/dineshkumar.anandan@zucisystems.com/detectron2/input/agadia/21.jpg\"\n",
        "visual_predict(test_dataset)"
      ],
      "metadata": {
        "id": "xRODVwixXhOO"
      },
      "execution_count": null,
      "outputs": []
    }
  ],
  "metadata": {
    "colab": {
      "name": "Welcome To Colaboratory",
      "toc_visible": true,
      "provenance": [],
      "include_colab_link": true
    },
    "kernelspec": {
      "display_name": "Python 3",
      "name": "python3"
    }
  },
  "nbformat": 4,
  "nbformat_minor": 0
}